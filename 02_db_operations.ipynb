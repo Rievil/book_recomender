{
 "cells": [
  {
   "cell_type": "code",
   "execution_count": 1,
   "metadata": {},
   "outputs": [
    {
     "name": "stdout",
     "output_type": "stream",
     "text": [
      "⏳ Waiting for PostgreSQL to be ready...\n",
      "✅ PostgreSQL is ready!\n"
     ]
    }
   ],
   "source": [
    "import psycopg2\n",
    "import time\n",
    "from psycopg2 import OperationalError\n",
    "\n",
    "print(\"⏳ Waiting for PostgreSQL to be ready...\")\n",
    "while True:\n",
    "    try:\n",
    "        conn = psycopg2.connect(\n",
    "            dbname=\"books_db\",             # actual DB name\n",
    "            user=\"postgres\",\n",
    "            password=\"postgres\",\n",
    "            host=\"localhost\",              # ✅ external host\n",
    "            port=\"15432\",                  # ✅ mapped port\n",
    "        )\n",
    "        conn.close()\n",
    "        print(\"✅ PostgreSQL is ready!\")\n",
    "        break\n",
    "    except OperationalError as e:\n",
    "        print(\"PostgreSQL not ready, retrying in 1 second...\")\n",
    "        print(e)\n",
    "        time.sleep(1)"
   ]
  },
  {
   "cell_type": "code",
   "execution_count": null,
   "metadata": {},
   "outputs": [],
   "source": [
    "import pandas as pd\n",
    "books_df = pd.read_csv(\"data/Books.csv\", low_memory=False, nrows=5000)\n",
    "users_df = pd.read_csv(\"data/Users.csv\", low_memory=False, nrows=10000)\n",
    "ratings_df = pd.read_csv(\"data/Ratings.csv\", low_memory=False, nrows=50000)"
   ]
  },
  {
   "cell_type": "code",
   "execution_count": 6,
   "metadata": {},
   "outputs": [],
   "source": [
    "\n",
    "valid_user_ids = users_df[\"User-ID\"].unique()\n",
    "ratings_df = ratings_df[ratings_df[\"User-ID\"].isin(valid_user_ids)]"
   ]
  },
  {
   "cell_type": "code",
   "execution_count": null,
   "metadata": {},
   "outputs": [
    {
     "name": "stdout",
     "output_type": "stream",
     "text": [
      "📂 Loading CSV files...\n",
      "🔍 Checking file paths...\n",
      " - data/Books.csv:  True\n",
      " - data/Users.csv:  True\n",
      " - data/Ratings.csv:  True\n",
      "📊 Books: 5000, Users: 10000, Ratings: 50000\n",
      "✅ Filtered: 0 books, 0 users, 0 ratings\n"
     ]
    },
    {
     "ename": "RuntimeError",
     "evalue": "Working outside of application context.\n\nThis typically means that you attempted to use functionality that needed\nthe current application. To solve this, set up an application context\nwith app.app_context(). See the documentation for more information.",
     "output_type": "error",
     "traceback": [
      "\u001b[0;31m---------------------------------------------------------------------------\u001b[0m",
      "\u001b[0;31mRuntimeError\u001b[0m                              Traceback (most recent call last)",
      "Cell \u001b[0;32mIn[3], line 104\u001b[0m\n\u001b[1;32m    101\u001b[0m     db\u001b[38;5;241m.\u001b[39msession\u001b[38;5;241m.\u001b[39mcommit()\n\u001b[1;32m    102\u001b[0m     \u001b[38;5;28mprint\u001b[39m(\u001b[38;5;124m\"\u001b[39m\u001b[38;5;124m✅ Data reloaded successfully.\u001b[39m\u001b[38;5;124m\"\u001b[39m)\n\u001b[0;32m--> 104\u001b[0m \u001b[43mload_all_data\u001b[49m\u001b[43m(\u001b[49m\u001b[43m)\u001b[49m\n",
      "Cell \u001b[0;32mIn[3], line 56\u001b[0m, in \u001b[0;36mload_all_data\u001b[0;34m()\u001b[0m\n\u001b[1;32m     50\u001b[0m users_df \u001b[38;5;241m=\u001b[39m users_df[users_df[\u001b[38;5;124m\"\u001b[39m\u001b[38;5;124mUser-ID\u001b[39m\u001b[38;5;124m\"\u001b[39m]\u001b[38;5;241m.\u001b[39misin(ratings_df[\u001b[38;5;124m\"\u001b[39m\u001b[38;5;124mUser-ID\u001b[39m\u001b[38;5;124m\"\u001b[39m]\u001b[38;5;241m.\u001b[39munique())]\n\u001b[1;32m     52\u001b[0m \u001b[38;5;28mprint\u001b[39m(\n\u001b[1;32m     53\u001b[0m     \u001b[38;5;124mf\u001b[39m\u001b[38;5;124m\"\u001b[39m\u001b[38;5;124m✅ Filtered: \u001b[39m\u001b[38;5;132;01m{\u001b[39;00m\u001b[38;5;28mlen\u001b[39m(books_df)\u001b[38;5;132;01m}\u001b[39;00m\u001b[38;5;124m books, \u001b[39m\u001b[38;5;132;01m{\u001b[39;00m\u001b[38;5;28mlen\u001b[39m(users_df)\u001b[38;5;132;01m}\u001b[39;00m\u001b[38;5;124m users, \u001b[39m\u001b[38;5;132;01m{\u001b[39;00m\u001b[38;5;28mlen\u001b[39m(ratings_df)\u001b[38;5;132;01m}\u001b[39;00m\u001b[38;5;124m ratings\u001b[39m\u001b[38;5;124m\"\u001b[39m\n\u001b[1;32m     54\u001b[0m )\n\u001b[0;32m---> 56\u001b[0m \u001b[43mdb\u001b[49m\u001b[38;5;241;43m.\u001b[39;49m\u001b[43mdrop_all\u001b[49m\u001b[43m(\u001b[49m\u001b[43m)\u001b[49m\n\u001b[1;32m     57\u001b[0m db\u001b[38;5;241m.\u001b[39mcreate_all()\n\u001b[1;32m     59\u001b[0m books \u001b[38;5;241m=\u001b[39m [\n\u001b[1;32m     60\u001b[0m     Book(\n\u001b[1;32m     61\u001b[0m         isbn\u001b[38;5;241m=\u001b[39mrow[\u001b[38;5;124m\"\u001b[39m\u001b[38;5;124mISBN\u001b[39m\u001b[38;5;124m\"\u001b[39m],\n\u001b[0;32m   (...)\u001b[0m\n\u001b[1;32m     74\u001b[0m     \u001b[38;5;28;01mfor\u001b[39;00m _, row \u001b[38;5;129;01min\u001b[39;00m books_df\u001b[38;5;241m.\u001b[39miterrows()\n\u001b[1;32m     75\u001b[0m ]\n",
      "File \u001b[0;32m~/.pyenv/versions/base-venv/lib/python3.12/site-packages/flask_sqlalchemy/extension.py:917\u001b[0m, in \u001b[0;36mSQLAlchemy.drop_all\u001b[0;34m(self, bind_key)\u001b[0m\n\u001b[1;32m    902\u001b[0m \u001b[38;5;28;01mdef\u001b[39;00m\u001b[38;5;250m \u001b[39m\u001b[38;5;21mdrop_all\u001b[39m(\u001b[38;5;28mself\u001b[39m, bind_key: \u001b[38;5;28mstr\u001b[39m \u001b[38;5;241m|\u001b[39m \u001b[38;5;28;01mNone\u001b[39;00m \u001b[38;5;241m|\u001b[39m \u001b[38;5;28mlist\u001b[39m[\u001b[38;5;28mstr\u001b[39m \u001b[38;5;241m|\u001b[39m \u001b[38;5;28;01mNone\u001b[39;00m] \u001b[38;5;241m=\u001b[39m \u001b[38;5;124m\"\u001b[39m\u001b[38;5;124m__all__\u001b[39m\u001b[38;5;124m\"\u001b[39m) \u001b[38;5;241m-\u001b[39m\u001b[38;5;241m>\u001b[39m \u001b[38;5;28;01mNone\u001b[39;00m:\n\u001b[1;32m    903\u001b[0m \u001b[38;5;250m    \u001b[39m\u001b[38;5;124;03m\"\"\"Drop tables by calling ``metadata.drop_all()`` for all or some bind keys.\u001b[39;00m\n\u001b[1;32m    904\u001b[0m \n\u001b[1;32m    905\u001b[0m \u001b[38;5;124;03m    This requires that a Flask application context is active.\u001b[39;00m\n\u001b[0;32m   (...)\u001b[0m\n\u001b[1;32m    915\u001b[0m \u001b[38;5;124;03m        Added the ``bind`` and ``app`` parameters.\u001b[39;00m\n\u001b[1;32m    916\u001b[0m \u001b[38;5;124;03m    \"\"\"\u001b[39;00m\n\u001b[0;32m--> 917\u001b[0m     \u001b[38;5;28;43mself\u001b[39;49m\u001b[38;5;241;43m.\u001b[39;49m\u001b[43m_call_for_binds\u001b[49m\u001b[43m(\u001b[49m\u001b[43mbind_key\u001b[49m\u001b[43m,\u001b[49m\u001b[43m \u001b[49m\u001b[38;5;124;43m\"\u001b[39;49m\u001b[38;5;124;43mdrop_all\u001b[39;49m\u001b[38;5;124;43m\"\u001b[39;49m\u001b[43m)\u001b[49m\n",
      "File \u001b[0;32m~/.pyenv/versions/base-venv/lib/python3.12/site-packages/flask_sqlalchemy/extension.py:871\u001b[0m, in \u001b[0;36mSQLAlchemy._call_for_binds\u001b[0;34m(self, bind_key, op_name)\u001b[0m\n\u001b[1;32m    869\u001b[0m \u001b[38;5;28;01mfor\u001b[39;00m key \u001b[38;5;129;01min\u001b[39;00m keys:\n\u001b[1;32m    870\u001b[0m     \u001b[38;5;28;01mtry\u001b[39;00m:\n\u001b[0;32m--> 871\u001b[0m         engine \u001b[38;5;241m=\u001b[39m \u001b[38;5;28;43mself\u001b[39;49m\u001b[38;5;241;43m.\u001b[39;49m\u001b[43mengines\u001b[49m[key]\n\u001b[1;32m    872\u001b[0m     \u001b[38;5;28;01mexcept\u001b[39;00m \u001b[38;5;167;01mKeyError\u001b[39;00m:\n\u001b[1;32m    873\u001b[0m         message \u001b[38;5;241m=\u001b[39m \u001b[38;5;124mf\u001b[39m\u001b[38;5;124m\"\u001b[39m\u001b[38;5;124mBind key \u001b[39m\u001b[38;5;124m'\u001b[39m\u001b[38;5;132;01m{\u001b[39;00mkey\u001b[38;5;132;01m}\u001b[39;00m\u001b[38;5;124m'\u001b[39m\u001b[38;5;124m is not in \u001b[39m\u001b[38;5;124m'\u001b[39m\u001b[38;5;124mSQLALCHEMY_BINDS\u001b[39m\u001b[38;5;124m'\u001b[39m\u001b[38;5;124m config.\u001b[39m\u001b[38;5;124m\"\u001b[39m\n",
      "File \u001b[0;32m~/.pyenv/versions/base-venv/lib/python3.12/site-packages/flask_sqlalchemy/extension.py:687\u001b[0m, in \u001b[0;36mSQLAlchemy.engines\u001b[0;34m(self)\u001b[0m\n\u001b[1;32m    674\u001b[0m \u001b[38;5;129m@property\u001b[39m\n\u001b[1;32m    675\u001b[0m \u001b[38;5;28;01mdef\u001b[39;00m\u001b[38;5;250m \u001b[39m\u001b[38;5;21mengines\u001b[39m(\u001b[38;5;28mself\u001b[39m) \u001b[38;5;241m-\u001b[39m\u001b[38;5;241m>\u001b[39m t\u001b[38;5;241m.\u001b[39mMapping[\u001b[38;5;28mstr\u001b[39m \u001b[38;5;241m|\u001b[39m \u001b[38;5;28;01mNone\u001b[39;00m, sa\u001b[38;5;241m.\u001b[39mengine\u001b[38;5;241m.\u001b[39mEngine]:\n\u001b[1;32m    676\u001b[0m \u001b[38;5;250m    \u001b[39m\u001b[38;5;124;03m\"\"\"Map of bind keys to :class:`sqlalchemy.engine.Engine` instances for current\u001b[39;00m\n\u001b[1;32m    677\u001b[0m \u001b[38;5;124;03m    application. The ``None`` key refers to the default engine, and is available as\u001b[39;00m\n\u001b[1;32m    678\u001b[0m \u001b[38;5;124;03m    :attr:`engine`.\u001b[39;00m\n\u001b[0;32m   (...)\u001b[0m\n\u001b[1;32m    685\u001b[0m \u001b[38;5;124;03m    .. versionadded:: 3.0\u001b[39;00m\n\u001b[1;32m    686\u001b[0m \u001b[38;5;124;03m    \"\"\"\u001b[39;00m\n\u001b[0;32m--> 687\u001b[0m     app \u001b[38;5;241m=\u001b[39m \u001b[43mcurrent_app\u001b[49m\u001b[38;5;241;43m.\u001b[39;49m\u001b[43m_get_current_object\u001b[49m\u001b[43m(\u001b[49m\u001b[43m)\u001b[49m  \u001b[38;5;66;03m# type: ignore[attr-defined]\u001b[39;00m\n\u001b[1;32m    689\u001b[0m     \u001b[38;5;28;01mif\u001b[39;00m app \u001b[38;5;129;01mnot\u001b[39;00m \u001b[38;5;129;01min\u001b[39;00m \u001b[38;5;28mself\u001b[39m\u001b[38;5;241m.\u001b[39m_app_engines:\n\u001b[1;32m    690\u001b[0m         \u001b[38;5;28;01mraise\u001b[39;00m \u001b[38;5;167;01mRuntimeError\u001b[39;00m(\n\u001b[1;32m    691\u001b[0m             \u001b[38;5;124m\"\u001b[39m\u001b[38;5;124mThe current Flask app is not registered with this \u001b[39m\u001b[38;5;124m'\u001b[39m\u001b[38;5;124mSQLAlchemy\u001b[39m\u001b[38;5;124m'\u001b[39m\u001b[38;5;124m\"\u001b[39m\n\u001b[1;32m    692\u001b[0m             \u001b[38;5;124m\"\u001b[39m\u001b[38;5;124m instance. Did you forget to call \u001b[39m\u001b[38;5;124m'\u001b[39m\u001b[38;5;124minit_app\u001b[39m\u001b[38;5;124m'\u001b[39m\u001b[38;5;124m, or did you create\u001b[39m\u001b[38;5;124m\"\u001b[39m\n\u001b[1;32m    693\u001b[0m             \u001b[38;5;124m\"\u001b[39m\u001b[38;5;124m multiple \u001b[39m\u001b[38;5;124m'\u001b[39m\u001b[38;5;124mSQLAlchemy\u001b[39m\u001b[38;5;124m'\u001b[39m\u001b[38;5;124m instances?\u001b[39m\u001b[38;5;124m\"\u001b[39m\n\u001b[1;32m    694\u001b[0m         )\n",
      "File \u001b[0;32m~/.pyenv/versions/base-venv/lib/python3.12/site-packages/werkzeug/local.py:519\u001b[0m, in \u001b[0;36mLocalProxy.__init__.<locals>._get_current_object\u001b[0;34m()\u001b[0m\n\u001b[1;32m    517\u001b[0m     obj \u001b[38;5;241m=\u001b[39m local\u001b[38;5;241m.\u001b[39mget()\n\u001b[1;32m    518\u001b[0m \u001b[38;5;28;01mexcept\u001b[39;00m \u001b[38;5;167;01mLookupError\u001b[39;00m:\n\u001b[0;32m--> 519\u001b[0m     \u001b[38;5;28;01mraise\u001b[39;00m \u001b[38;5;167;01mRuntimeError\u001b[39;00m(unbound_message) \u001b[38;5;28;01mfrom\u001b[39;00m\u001b[38;5;250m \u001b[39m\u001b[38;5;28;01mNone\u001b[39;00m\n\u001b[1;32m    521\u001b[0m \u001b[38;5;28;01mreturn\u001b[39;00m get_name(obj)\n",
      "\u001b[0;31mRuntimeError\u001b[0m: Working outside of application context.\n\nThis typically means that you attempted to use functionality that needed\nthe current application. To solve this, set up an application context\nwith app.app_context(). See the documentation for more information."
     ]
    }
   ],
   "source": [
    "import pandas as pd\n",
    "import os\n",
    "from models.models import Book, User, Rating\n",
    "from models.db import db\n",
    "\n",
    "\n",
    "\n",
    "def clean_age(age):\n",
    "    try:\n",
    "        age = int(age)\n",
    "        if 5 < age < 100:\n",
    "            return age\n",
    "    except:\n",
    "        return None\n",
    "\n",
    "\n",
    "def load_all_data():\n",
    "    print(\"📂 Loading CSV files...\")\n",
    "\n",
    "    # Confirm files exist\n",
    "    print(\"🔍 Checking file paths...\")\n",
    "    for f in [\"Books.csv\", \"Users.csv\", \"Ratings.csv\"]:\n",
    "        full_path = os.path.join(\"data\", f)\n",
    "        print(f\" - {full_path}: \", os.path.exists(full_path))\n",
    "\n",
    "    try:\n",
    "        books_df = pd.read_csv(\"data/Books.csv\", low_memory=False, nrows=5000)\n",
    "        users_df = pd.read_csv(\"data/Users.csv\", low_memory=False, nrows=10000)\n",
    "        ratings_df = pd.read_csv(\"data/Ratings.csv\", low_memory=False, nrows=50000)\n",
    "    except Exception as e:\n",
    "        print(\"❌ Failed to load CSVs:\", e)\n",
    "        return\n",
    "\n",
    "    print(\n",
    "        f\"📊 Books: {len(books_df)}, Users: {len(users_df)}, Ratings: {len(ratings_df)}\"\n",
    "    )\n",
    "    \n",
    "    ratings_df = ratings_df[ratings_df[\"Book-Rating\"] > 0]\n",
    "\n",
    "    book_counts = ratings_df[\"ISBN\"].value_counts()\n",
    "    popular_books = book_counts[book_counts > 50].index\n",
    "    ratings_df = ratings_df[ratings_df[\"ISBN\"].isin(popular_books)]\n",
    "\n",
    "    user_counts = ratings_df[\"User-ID\"].value_counts()\n",
    "    active_users = user_counts[user_counts > 100].index\n",
    "    ratings_df = ratings_df[ratings_df[\"User-ID\"].isin(active_users)]\n",
    "\n",
    "    books_df = books_df[books_df[\"ISBN\"].isin(ratings_df[\"ISBN\"].unique())]\n",
    "    users_df = users_df[users_df[\"User-ID\"].isin(ratings_df[\"User-ID\"].unique())]\n",
    "\n",
    "    print(\n",
    "        f\"✅ Filtered: {len(books_df)} books, {len(users_df)} users, {len(ratings_df)} ratings\"\n",
    "    )\n",
    "\n",
    "    db.drop_all()\n",
    "    db.create_all()\n",
    "\n",
    "    books = [\n",
    "        Book(\n",
    "            isbn=row[\"ISBN\"],\n",
    "            title=row[\"Book-Title\"],\n",
    "            author=row[\"Book-Author\"],\n",
    "            year=(\n",
    "                int(row[\"Year-Of-Publication\"])\n",
    "                if str(row[\"Year-Of-Publication\"]).isdigit()\n",
    "                else None\n",
    "            ),\n",
    "            publisher=row[\"Publisher\"],\n",
    "            image_url_s=row[\"Image-URL-S\"],\n",
    "            image_url_m=row[\"Image-URL-M\"],\n",
    "            image_url_l=row[\"Image-URL-L\"],\n",
    "        )\n",
    "        for _, row in books_df.iterrows()\n",
    "    ]\n",
    "    print(f\"📘 Saving {len(books)} books...\")\n",
    "    db.session.bulk_save_objects(books)\n",
    "\n",
    "    users = [\n",
    "        User(\n",
    "            id=int(row[\"User-ID\"]),\n",
    "            location=row[\"Location\"],\n",
    "            age=row[\"Age\"] if not pd.isna(row[\"Age\"]) else None,\n",
    "        )\n",
    "        for _, row in users_df.iterrows()\n",
    "    ]\n",
    "    print(f\"👤 Saving {len(users)} users...\")\n",
    "    db.session.bulk_save_objects(users)\n",
    "\n",
    "    ratings = [\n",
    "        Rating(\n",
    "            user_id=int(row[\"User-ID\"]),\n",
    "            isbn=row[\"ISBN\"],\n",
    "            book_rating=int(row[\"Book-Rating\"]),\n",
    "        )\n",
    "        for _, row in ratings_df.iterrows()\n",
    "    ]\n",
    "    print(f\"⭐ Saving {len(ratings)} ratings...\")\n",
    "    db.session.bulk_save_objects(ratings)\n",
    "\n",
    "    db.session.commit()\n",
    "    print(\"✅ Data reloaded successfully.\")\n",
    "    \n",
    "load_all_data()\n"
   ]
  }
 ],
 "metadata": {
  "kernelspec": {
   "display_name": "base-venv",
   "language": "python",
   "name": "python3"
  },
  "language_info": {
   "codemirror_mode": {
    "name": "ipython",
    "version": 3
   },
   "file_extension": ".py",
   "mimetype": "text/x-python",
   "name": "python",
   "nbconvert_exporter": "python",
   "pygments_lexer": "ipython3",
   "version": "3.12.0"
  }
 },
 "nbformat": 4,
 "nbformat_minor": 2
}
